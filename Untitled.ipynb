{
 "cells": [
  {
   "cell_type": "markdown",
   "metadata": {},
   "source": [
    "## Gap in Primes\n",
    "* The prime numbers are not regularly spaced. For example from 2 to 3 the gap is 1. From 3 to 5 the gap is 2. From 7 to 11 it is 4. Between 2 and 50 we have the following pairs of 2-gaps primes: 3-5, 5-7, 11-13, 17-19, 29-31, 41-43\n",
    "* A prime gap of length n is a run of n-1 consecutive composite numbers between two successive primes (see: http://mathworld.wolfram.com/PrimeGaps.html).\n",
    "\n",
    "* We will write a function gap with parameters:\n",
    "\n",
    "* g (integer >= 2) which indicates the gap we are looking for\n",
    "\n",
    "* m (integer > 2) which gives the start of the search (m inclusive)\n",
    "\n",
    "* n (integer >= m) which gives the end of the search (n inclusive)\n",
    "\n",
    "* In the example above __gap(2, 3, 50)__ will return __[3, 5] or (3, 5) or {3, 5}__ which is the first pair between 3 and 50 with a 2-gap.\n",
    "\n",
    "* So this function should return the first pair of two prime numbers spaced with a gap of g between the limits m, n if these numbers exist otherwise nil or null or None or Nothing (depend"
   ]
  },
  {
   "cell_type": "code",
   "execution_count": 40,
   "metadata": {},
   "outputs": [],
   "source": [
    "function gap(g, m, n) {\n",
    "    \n",
    "    function isPrime(n) {\n",
    "        if(n < 2) {\n",
    "            return false\n",
    "        }\n",
    "        \n",
    "        for (var i = 2; i <= Math.sqrt(n); i++) {\n",
    "            if(n % i === 0) {\n",
    "                return false\n",
    "            }\n",
    "        }\n",
    "        \n",
    "        return true\n",
    "    }\n",
    "    \n",
    "    prevPrime = null\n",
    "    currentPrime = null\n",
    "    \n",
    "    for(var x = m; x < n; x++  ) {\n",
    "        if(isPrime(x)) {\n",
    "            console.log(x)\n",
    "            currentPrime = x\n",
    "            \n",
    "            if(currentPrime - g === prevPrime) {\n",
    "                return [prevPrime, currentPrime]\n",
    "            }\n",
    "            \n",
    "            else {\n",
    "                prevPrime = x\n",
    "            }\n",
    "        }\n",
    "    }\n",
    "    \n",
    "    return null\n",
    "}"
   ]
  },
  {
   "cell_type": "code",
   "execution_count": 41,
   "metadata": {},
   "outputs": [
    {
     "name": "stdout",
     "output_type": "stream",
     "text": [
      "307\n",
      "311\n",
      "313\n",
      "317\n",
      "331\n",
      "337\n",
      "347\n",
      "349\n",
      "353\n",
      "359\n",
      "367\n"
     ]
    },
    {
     "data": {
      "text/plain": [
       "[ 359, 367 ]"
      ]
     },
     "execution_count": 41,
     "metadata": {},
     "output_type": "execute_result"
    }
   ],
   "source": [
    "gap(8,300,400)"
   ]
  },
  {
   "cell_type": "code",
   "execution_count": null,
   "metadata": {},
   "outputs": [],
   "source": []
  }
 ],
 "metadata": {
  "kernelspec": {
   "display_name": "Javascript (Node.js)",
   "language": "javascript",
   "name": "javascript"
  },
  "language_info": {
   "file_extension": ".js",
   "mimetype": "application/javascript",
   "name": "javascript",
   "version": "12.10.0"
  }
 },
 "nbformat": 4,
 "nbformat_minor": 4
}
