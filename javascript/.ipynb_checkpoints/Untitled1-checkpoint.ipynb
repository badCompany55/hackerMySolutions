{
 "cells": [
  {
   "cell_type": "markdown",
   "metadata": {},
   "source": [
    "## Pyramid Slide Down\n",
    "* Let's say that the 'slide down' is a sum of consecutive numbers from the top to the bottom of the pyramid. As you can see, the longest 'slide down' is 3 + 7 + 4 + 9 = 23\n",
    "* Your task is to write a function longestSlideDown (in ruby: longest_slide_down) that takes a pyramid representation as argument and returns its' longest 'slide down'. \n",
    "### Example\n",
    "* longestSlideDown([[3], [7, 4], [2, 4, 6], [8, 5, 9, 3]]) => 23"
   ]
  },
  {
   "cell_type": "code",
   "execution_count": 73,
   "metadata": {},
   "outputs": [],
   "source": [
    "function longestSlideDown(py) {\n",
    "    var returnVal = py.reduceRight((last, current) => {\n",
    "        console.log(\"last:\", last)\n",
    "        console.log(\"current:\", current)\n",
    "        return current.map((x, i) => {\n",
    "            console.log(\"x:\", x)\n",
    "            var val = x + Math.max(last[i], last[i+1])\n",
    "            console.log(\"map val:\", val)\n",
    "            return x + Math.max(last[i], last[i+1])\n",
    "        })\n",
    "    })[0]\n",
    "    return returnVal\n",
    "}"
   ]
  },
  {
   "cell_type": "code",
   "execution_count": 74,
   "metadata": {},
   "outputs": [
    {
     "name": "stdout",
     "output_type": "stream",
     "text": [
      "last: [ 8, 5, 9, 3 ]\n",
      "current: [ 2, 4, 6 ]\n",
      "x: 2\n",
      "map val: 10\n",
      "x: 4\n",
      "map val: 13\n",
      "x: 6\n",
      "map val: 15\n",
      "last: [ 10, 13, 15 ]\n",
      "current: [ 7, 4 ]\n",
      "x: 7\n",
      "map val: 20\n",
      "x: 4\n",
      "map val: 19\n",
      "last: [ 20, 19 ]\n",
      "current: [ 3 ]\n",
      "x: 3\n",
      "map val: 23\n"
     ]
    },
    {
     "data": {
      "text/plain": [
       "23"
      ]
     },
     "execution_count": 74,
     "metadata": {},
     "output_type": "execute_result"
    }
   ],
   "source": [
    "longestSlideDown([[3], [7, 4], [2, 4, 6], [8, 5, 9, 3]])"
   ]
  },
  {
   "cell_type": "code",
   "execution_count": null,
   "metadata": {},
   "outputs": [],
   "source": []
  }
 ],
 "metadata": {
  "kernelspec": {
   "display_name": "Javascript (Node.js)",
   "language": "javascript",
   "name": "javascript"
  },
  "language_info": {
   "file_extension": ".js",
   "mimetype": "application/javascript",
   "name": "javascript",
   "version": "12.10.0"
  }
 },
 "nbformat": 4,
 "nbformat_minor": 4
}
