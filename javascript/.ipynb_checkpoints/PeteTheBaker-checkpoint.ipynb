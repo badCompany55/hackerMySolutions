{
 "cells": [
  {
   "cell_type": "markdown",
   "metadata": {},
   "source": [
    "## Pete The Baker\n",
    "* Pete likes to bake some cakes. He has some recipes and ingredients. Unfortunately he is not good in maths. Can you help him to find out, how many cakes he could bake considering his recipes?\n",
    "* Write a function cakes(), which takes the recipe (object) and the available ingredients (also an object) and returns the maximum number of cakes Pete can bake (integer). For simplicity there are no units for the amounts (e.g. 1 lb of flour or 200 g of sugar are simply 1 or 200). Ingredients that are not present in the objects, can be considered as 0.\n",
    "\n",
    "### Examples\n",
    "1. // must return 2\n",
    "    * cakes({flour: 500, sugar: 200, eggs: 1}, {flour: 1200, sugar: 1200, eggs: 5, milk: 200}); \n",
    "2. // must return 0\n",
    "    * cakes({apples: 3, flour: 300, sugar: 150, milk: 100, oil: 100}, {sugar: 500, flour: 2000, milk: 2000}); "
   ]
  },
  {
   "cell_type": "code",
   "execution_count": 34,
   "metadata": {},
   "outputs": [],
   "source": [
    "function cakes(recipe, available) {\n",
    "    var recLength = 0\n",
    "    var avaLength = 0\n",
    "    var numberOfCakes = 9999999 \n",
    "    for(var key in recipe){\n",
    "        recLength++\n",
    "        if(available[key]) {\n",
    "            var num = Math.floor(available[key] / recipe[key])\n",
    "            if(num < numberOfCakes ) {\n",
    "                numberOfCakes = num\n",
    "            }\n",
    "        } else if(!available.hasOwnProperty(key)) {\n",
    "            return 0\n",
    "        }\n",
    "    }\n",
    "    for(var key in available) {\n",
    "        avaLength++\n",
    "    }\n",
    "    \n",
    "    if(recLength > avaLength) {\n",
    "        return 0\n",
    "    }\n",
    "    \n",
    "    return numberOfCakes\n",
    "}"
   ]
  },
  {
   "cell_type": "code",
   "execution_count": 35,
   "metadata": {},
   "outputs": [
    {
     "data": {
      "text/plain": [
       "0"
      ]
     },
     "execution_count": 35,
     "metadata": {},
     "output_type": "execute_result"
    }
   ],
   "source": [
    "cakes({\"apples\":3,\"flour\":300,\"sugar\":150,\"milk\":100,\"oil\":100} , {\"sugar\":500,\"flour\":2000,\"milk\":2000,\"apples\":15,\"oil\":20}) "
   ]
  },
  {
   "cell_type": "code",
   "execution_count": 36,
   "metadata": {},
   "outputs": [
    {
     "data": {
      "text/plain": [
       "0"
      ]
     },
     "execution_count": 36,
     "metadata": {},
     "output_type": "execute_result"
    }
   ],
   "source": [
    "cakes({apples: 3, flour: 300, sugar: 150, milk: 100, oil: 100}, {sugar: 500, flour: 2000, milk: 2000}); "
   ]
  },
  {
   "cell_type": "code",
   "execution_count": 5,
   "metadata": {},
   "outputs": [
    {
     "name": "stdout",
     "output_type": "stream",
     "text": [
      "2\n"
     ]
    }
   ],
   "source": [
    "var test = {1: \"one\", 2: \"two\"}\n",
    "var length = 0 \n",
    "for(key in test) {\n",
    "    length++\n",
    "}\n",
    "console.log(length)\n"
   ]
  },
  {
   "cell_type": "code",
   "execution_count": null,
   "metadata": {},
   "outputs": [],
   "source": []
  }
 ],
 "metadata": {
  "kernelspec": {
   "display_name": "Javascript (Node.js)",
   "language": "javascript",
   "name": "javascript"
  },
  "language_info": {
   "file_extension": ".js",
   "mimetype": "application/javascript",
   "name": "javascript",
   "version": "12.10.0"
  }
 },
 "nbformat": 4,
 "nbformat_minor": 4
}
