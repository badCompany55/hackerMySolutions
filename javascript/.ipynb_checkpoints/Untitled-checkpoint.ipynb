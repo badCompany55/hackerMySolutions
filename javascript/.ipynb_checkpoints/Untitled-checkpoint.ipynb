{
 "cells": [
  {
   "cell_type": "markdown",
   "metadata": {},
   "source": [
    "## Consolation Prizes\n",
    "* "
   ]
  },
  {
   "cell_type": "code",
   "execution_count": null,
   "metadata": {},
   "outputs": [],
   "source": [
    "def num_of_prizes(k, marks):\n",
    "    sorted_marks = sorted(marks, reverse=True)\n",
    "    final_marks = []\n",
    "    \n",
    "    rank = 1\n",
    "    for i, m in enumerate(sorted_marks):\n",
    "        final_marks.append(rank)\n",
    "        if m == sorted_marks[i + 1] {\n",
    "            rank += 1\n",
    "        }\n",
    "        rank += 1\n",
    "    return final_marks"
   ]
  }
 ],
 "metadata": {
  "kernelspec": {
   "display_name": "Python 3",
   "language": "python",
   "name": "python3"
  },
  "language_info": {
   "codemirror_mode": {
    "name": "ipython",
    "version": 3
   },
   "file_extension": ".py",
   "mimetype": "text/x-python",
   "name": "python",
   "nbconvert_exporter": "python",
   "pygments_lexer": "ipython3",
   "version": "3.7.3"
  }
 },
 "nbformat": 4,
 "nbformat_minor": 4
}
