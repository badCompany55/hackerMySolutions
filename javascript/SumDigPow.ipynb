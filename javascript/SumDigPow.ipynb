{
 "cells": [
  {
   "cell_type": "markdown",
   "metadata": {},
   "source": [
    "## SUM DIG POW\n",
    "* The number 89 is the first integer with more than one digit that fulfills the property partially introduced in the title of this kata. What's the use of saying \"Eureka\"? Because this sum gives the same number.\n",
    "* In effect: 89 = 8^1 + 9^2 \n",
    "* The next number in having this property is 135.\n",
    "* See this property again: 135 = 1^1 + 3^2 + 5^3\n",
    "* We need a function to collect these numbers, that may receive two integers a, b that defines the range [a, b] (inclusive) and outputs a list of the sorted numbers in the range that fulfills the property described above.\n",
    "* __Example__\n",
    "    1. sumDigPow(1, 10) == [1, 2, 3, 4, 5, 6, 7, 8, 9]\n",
    "    2. sumDigPow(1, 100) == [1, 2, 3, 4, 5, 6, 7, 8, 9, 89]"
   ]
  },
  {
   "cell_type": "code",
   "execution_count": 16,
   "metadata": {},
   "outputs": [],
   "source": [
    "function sumDigPow(a, b) {\n",
    "    answer = []\n",
    "    for(var i = a; i <= b; i++) {\n",
    "        var split = i.toString().split(\"\")\n",
    "        if(split.length === 1) {\n",
    "            answer.push(i)\n",
    "        } else {\n",
    "            powers = []\n",
    "            for(var j = 0; j < split.length; j++) {\n",
    "                num = parseInt(split[j])\n",
    "                multi = num ** (j + 1)\n",
    "                powers.push(multi)\n",
    "            }\n",
    "            newAnswer = powers.reduce((a, b) => {return a + b}, 0)\n",
    "            if(newAnswer === i) {\n",
    "                answer.push(i)\n",
    "            }\n",
    "        }\n",
    "    }\n",
    "    return answer\n",
    "}"
   ]
  },
  {
   "cell_type": "code",
   "execution_count": 18,
   "metadata": {},
   "outputs": [
    {
     "data": {
      "text/plain": [
       "[\n",
       "    1, 2, 3, 4,  5,\n",
       "    6, 7, 8, 9, 89,\n",
       "  135\n",
       "]"
      ]
     },
     "execution_count": 18,
     "metadata": {},
     "output_type": "execute_result"
    }
   ],
   "source": [
    "sumDigPow(1, 150)"
   ]
  },
  {
   "cell_type": "code",
   "execution_count": null,
   "metadata": {},
   "outputs": [],
   "source": []
  }
 ],
 "metadata": {
  "kernelspec": {
   "display_name": "Javascript (Node.js)",
   "language": "javascript",
   "name": "javascript"
  },
  "language_info": {
   "file_extension": ".js",
   "mimetype": "application/javascript",
   "name": "javascript",
   "version": "12.10.0"
  }
 },
 "nbformat": 4,
 "nbformat_minor": 4
}
