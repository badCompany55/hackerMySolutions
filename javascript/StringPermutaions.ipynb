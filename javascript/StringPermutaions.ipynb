{
 "cells": [
  {
   "cell_type": "markdown",
   "metadata": {},
   "source": [
    "## Permutations\n",
    "* In this kata you have to create all permutations of an input string and remove duplicates, if present. This means, you have to shuffle all letters from the input in all possible orders.\n",
    "\n",
    "### Examples\n",
    "* permutations('a'); // ['a']\n",
    "* permutations('ab'); // ['ab', 'ba']\n",
    "* permutations('aabb'); // ['aabb', 'abab', 'abba', 'baab', 'baba', 'bbaa']"
   ]
  },
  {
   "cell_type": "code",
   "execution_count": 77,
   "metadata": {},
   "outputs": [],
   "source": [
    "function permutations(string) {\n",
    "    var split_string = string.split(\"\")\n",
    "    var stack = []\n",
    "    if(string.length === 1) {\n",
    "        stack.push(string)\n",
    "        return stack\n",
    "    }\n",
    "    for(var i = 0; i < split_string.length; i++) {\n",
    "        var first = split_string[i]\n",
    "        var charsLeft = split_string.slice(0, i) \n",
    "        var charsRight = split_string.slice(i + 1)\n",
    "        var allChars = charsLeft.concat(charsRight).join(\"\")\n",
    "        var inner = permutations(allChars)\n",
    "        for(var j = 0; j < inner.length; j++) {\n",
    "            var test = first + inner[j]\n",
    "            if(!stack.includes(test)) {\n",
    "                stack.push(test)\n",
    "            }\n",
    "        }\n",
    "    }\n",
    "    return stack\n",
    "}"
   ]
  },
  {
   "cell_type": "code",
   "execution_count": 78,
   "metadata": {},
   "outputs": [
    {
     "data": {
      "text/plain": [
       "[ 'aabb', 'abab', 'abba', 'baab', 'baba', 'bbaa' ]"
      ]
     },
     "execution_count": 78,
     "metadata": {},
     "output_type": "execute_result"
    }
   ],
   "source": [
    "permutations(\"aabb\")"
   ]
  },
  {
   "cell_type": "code",
   "execution_count": 1,
   "metadata": {},
   "outputs": [
    {
     "name": "stdout",
     "output_type": "stream",
     "text": [
      "[ 'a', 'a', 'b', 'b' ]\n",
      "[ 'a', 'b' ]\n"
     ]
    }
   ],
   "source": [
    "var string = \"aabb\"\n",
    "var split = string.split(\"\")\n",
    "var copy = split.slice(1,3)\n",
    "console.log(copy)"
   ]
  },
  {
   "cell_type": "code",
   "execution_count": null,
   "metadata": {},
   "outputs": [],
   "source": []
  }
 ],
 "metadata": {
  "kernelspec": {
   "display_name": "Javascript (Node.js)",
   "language": "javascript",
   "name": "javascript"
  },
  "language_info": {
   "file_extension": ".js",
   "mimetype": "application/javascript",
   "name": "javascript",
   "version": "12.10.0"
  }
 },
 "nbformat": 4,
 "nbformat_minor": 4
}
