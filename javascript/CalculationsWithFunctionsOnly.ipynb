{
 "cells": [
  {
   "cell_type": "markdown",
   "metadata": {},
   "source": [
    "## Calculating With Functions\n",
    "* This time we want to write calculations using functions and get the results. Let's have a look at some examples:\n",
    "* seven(times(five())); // must return 35\n",
    "* four(plus(nine())); // must return 13\n",
    "* eight(minus(three())); // must return 5\n",
    "* six(dividedBy(two())); // must return 3\n",
    "### Requirements\n",
    "\n",
    "* There must be a function for each number from 0 (\"zero\") to 9 (\"nine\")\n",
    "* There must be a function for each of the following mathematical operations: plus, minus, times, dividedBy (divided_by in Ruby and Python)\n",
    "* Each calculation consist of exactly one operation and two numbers\n",
    "* The most outer function represents the left operand, the most inner function represents the right operand\n",
    "* Divison should be integer division. For example, this should return 2, not 2.666666...:\n"
   ]
  },
  {
   "cell_type": "code",
   "execution_count": 2,
   "metadata": {},
   "outputs": [],
   "source": [
    "// id = a function that takes in x and returns x\n",
    "var id = x => x\n",
    "// number = a function that takes in x, passes x into another function that sets f to the function id, returns the result of function f with the input of x\n",
    "// Essencially this will be used to convert zero - nine into functions that return the corresponding number\n",
    "var number = x => (f = id) => f(x)\n",
    "// takes zero - nine and converst to a function that returns the corresponding number\n",
    "var [zero, one, two, three, four, five, six, seven, eight, nine] = [0,1,2,3,4,5,6,7,8,9].map(number)\n",
    "\n",
    "var plus = x => y =>  y + x\n",
    "var minus = x => y => y - x\n",
    "var times = x => y => y * x\n",
    "var divide = x => y => y / x"
   ]
  },
  {
   "cell_type": "code",
   "execution_count": 3,
   "metadata": {},
   "outputs": [
    {
     "data": {
      "text/plain": [
       "3"
      ]
     },
     "execution_count": 3,
     "metadata": {},
     "output_type": "execute_result"
    }
   ],
   "source": [
    "one() + two()"
   ]
  },
  {
   "cell_type": "code",
   "execution_count": 4,
   "metadata": {},
   "outputs": [
    {
     "data": {
      "text/plain": [
       "3"
      ]
     },
     "execution_count": 4,
     "metadata": {},
     "output_type": "execute_result"
    }
   ],
   "source": [
    "one(plus(two()))"
   ]
  },
  {
   "cell_type": "code",
   "execution_count": 5,
   "metadata": {},
   "outputs": [
    {
     "data": {
      "text/plain": [
       "-1"
      ]
     },
     "execution_count": 5,
     "metadata": {},
     "output_type": "execute_result"
    }
   ],
   "source": [
    "one(minus(two()))"
   ]
  },
  {
   "cell_type": "code",
   "execution_count": 6,
   "metadata": {},
   "outputs": [
    {
     "data": {
      "text/plain": [
       "2"
      ]
     },
     "execution_count": 6,
     "metadata": {},
     "output_type": "execute_result"
    }
   ],
   "source": [
    "one(times(two()))"
   ]
  },
  {
   "cell_type": "code",
   "execution_count": 7,
   "metadata": {},
   "outputs": [
    {
     "data": {
      "text/plain": [
       "0.5"
      ]
     },
     "execution_count": 7,
     "metadata": {},
     "output_type": "execute_result"
    }
   ],
   "source": [
    "one(divide(two()))"
   ]
  },
  {
   "cell_type": "code",
   "execution_count": 26,
   "metadata": {},
   "outputs": [],
   "source": [
    "var test = x => (f=id) => f(x)\n",
    "var testRendtion = function (x) {\n",
    "    return function (f=id) {\n",
    "        return f(x)\n",
    "    }\n",
    "}\n",
    "var plusRendition = function (x) {\n",
    "    return function (y) {\n",
    "        return y + x\n",
    "    }\n",
    "}"
   ]
  },
  {
   "cell_type": "code",
   "execution_count": 27,
   "metadata": {},
   "outputs": [
    {
     "data": {
      "text/plain": [
       "6"
      ]
     },
     "execution_count": 27,
     "metadata": {},
     "output_type": "execute_result"
    }
   ],
   "source": [
    "test(1)(plusRendition(5))"
   ]
  },
  {
   "cell_type": "code",
   "execution_count": 24,
   "metadata": {},
   "outputs": [
    {
     "data": {
      "text/plain": [
       "1"
      ]
     },
     "execution_count": 24,
     "metadata": {},
     "output_type": "execute_result"
    }
   ],
   "source": [
    "var theOne = test(1)()\n",
    "theOne()"
   ]
  },
  {
   "cell_type": "code",
   "execution_count": null,
   "metadata": {},
   "outputs": [],
   "source": []
  }
 ],
 "metadata": {
  "kernelspec": {
   "display_name": "Javascript (Node.js)",
   "language": "javascript",
   "name": "javascript"
  },
  "language_info": {
   "file_extension": ".js",
   "mimetype": "application/javascript",
   "name": "javascript",
   "version": "12.10.0"
  }
 },
 "nbformat": 4,
 "nbformat_minor": 4
}
