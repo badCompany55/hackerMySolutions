{
 "cells": [
  {
   "cell_type": "code",
   "execution_count": 32,
   "metadata": {},
   "outputs": [],
   "source": [
    "function sumStrings(a,b) {\n",
    "    var res = '', c = 0\n",
    "    a = a.split(\"\")\n",
    "    b = b.split(\"\")\n",
    "    while(a.length || b.length || c) {\n",
    "        // add the last value of a + b together\n",
    "        c += ~~a.pop() + ~~b.pop()\n",
    "        console.log(c)\n",
    "        res = c % 10 + res\n",
    "        console.log(res)\n",
    "        // True False check if c is greater than 9\n",
    "        // If not and the length of a and be are 0, then we have gone through every possibility in the chain\n",
    "        // without this, it would be an endless loop\n",
    "        // When the loop continues, this is how the remainder is found.\n",
    "        // true == the numeric value 1 while fales == the numeric value 0\n",
    "        // true + 3 = 4 \n",
    "        c = c > 9\n",
    "        console.log(c)\n",
    "    }\n",
    "    return res.replace(/^0+/, '')\n",
    "}"
   ]
  },
  {
   "cell_type": "code",
   "execution_count": 33,
   "metadata": {},
   "outputs": [
    {
     "name": "stdout",
     "output_type": "stream",
     "text": [
      "18\n",
      "8\n",
      "true\n",
      "19\n",
      "98\n",
      "true\n",
      "19\n",
      "998\n",
      "true\n",
      "19\n",
      "9998\n",
      "true\n",
      "10\n",
      "09998\n",
      "true\n",
      "10\n",
      "009998\n",
      "true\n",
      "10\n",
      "0009998\n",
      "true\n",
      "1\n",
      "10009998\n",
      "false\n"
     ]
    },
    {
     "data": {
      "text/plain": [
       "'10009998'"
      ]
     },
     "execution_count": 33,
     "metadata": {},
     "output_type": "execute_result"
    }
   ],
   "source": [
    "sumStrings(\"9999\", \"9999999\")"
   ]
  },
  {
   "cell_type": "code",
   "execution_count": 11,
   "metadata": {},
   "outputs": [
    {
     "name": "stdout",
     "output_type": "stream",
     "text": [
      "12235456\n"
     ]
    }
   ],
   "source": [
    "var test = '0012235456'\n",
    "var reg = test.replace(/^0+/, \"\")\n",
    "console.log(reg)"
   ]
  },
  {
   "cell_type": "code",
   "execution_count": null,
   "metadata": {},
   "outputs": [],
   "source": []
  }
 ],
 "metadata": {
  "kernelspec": {
   "display_name": "Javascript (Node.js)",
   "language": "javascript",
   "name": "javascript"
  },
  "language_info": {
   "file_extension": ".js",
   "mimetype": "application/javascript",
   "name": "javascript",
   "version": "12.10.0"
  }
 },
 "nbformat": 4,
 "nbformat_minor": 4
}
