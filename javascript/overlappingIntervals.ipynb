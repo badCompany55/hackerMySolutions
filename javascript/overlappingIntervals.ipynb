{
 "cells": [
  {
   "cell_type": "markdown",
   "metadata": {},
   "source": [
    "## Sum of Intervals\n",
    "* Write a function called sumIntervals/sum_intervals() that accepts an array of intervals, and returns the sum of all the interval lengths. Overlapping intervals should only be counted once.\n",
    "### Intervals\n",
    "* Intervals are represented by a pair of integers in the form of an array. The first value of the interval will always be less than the second value. Interval example: [1, 5] is an interval from 1 to 5. The length of this interval is 4.\n",
    "### Overlapping Intervals\n",
    "* List containing overlapping intervals:\n",
    "```javascript\n",
    "[\n",
    "   [1,4],\n",
    "   [7, 10],\n",
    "   [3, 5]\n",
    "]\n",
    "```\n",
    "    * The sum of the lengths of these intervals is 7. Since [1, 4] and [3, 5] overlap, we can treat the interval as [1, 5], which has a length of 4."
   ]
  },
  {
   "cell_type": "code",
   "execution_count": 1,
   "metadata": {},
   "outputs": [],
   "source": [
    "var sumIntervals = (intervals) => {\n",
    "    var numbers = new Set()\n",
    "    intervals.forEach(x => {\n",
    "       for(var i = x[0] + 1; i <= x[1]; i++ ) {\n",
    "           num = i\n",
    "           numbers.add(num)\n",
    "       } \n",
    "    })\n",
    "    return numbers.size\n",
    "}"
   ]
  },
  {
   "cell_type": "code",
   "execution_count": 2,
   "metadata": {},
   "outputs": [
    {
     "data": {
      "text/plain": [
       "7"
      ]
     },
     "execution_count": 2,
     "metadata": {},
     "output_type": "execute_result"
    }
   ],
   "source": [
    "var testNumbers = [[1,4],[7,10],[3,5]]\n",
    "sumIntervals(testNumbers)"
   ]
  },
  {
   "cell_type": "code",
   "execution_count": null,
   "metadata": {},
   "outputs": [],
   "source": []
  }
 ],
 "metadata": {
  "kernelspec": {
   "display_name": "Javascript (Node.js)",
   "language": "javascript",
   "name": "javascript"
  },
  "language_info": {
   "file_extension": ".js",
   "mimetype": "application/javascript",
   "name": "javascript",
   "version": "12.10.0"
  }
 },
 "nbformat": 4,
 "nbformat_minor": 4
}
