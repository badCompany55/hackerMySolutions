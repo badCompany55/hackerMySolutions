{
 "cells": [
  {
   "cell_type": "markdown",
   "metadata": {},
   "source": [
    "## Pagination Helper\n",
    "* For this exercise you will be strengthening your page-fu mastery. You will complete the PaginationHelper class, which is a utility class helpful for querying paging information related to an array. \n",
    "* The class is designed to take in an array of values and an integer indicating how many items will be allowed per each page. The types of values contained within the collection/array are not relevant. \n",
    "* The following are some examples of how this class is used:\n",
    "* var helper = new PaginationHelper(['a','b','c','d','e','f'], 4);\n",
    "1. helper.pageCount(); //should == 2\n",
    "2. helper.itemCount(); //should == 6\n",
    "3. helper.pageItemCount(0); //should == 4\n",
    "4. helper.pageItemCount(1); // last page - should == 2\n",
    "5. helper.pageItemCount(2); // should == -1 since the page is invalid\n",
    "\n",
    "__// pageIndex takes an item index and returns the page that it belongs on__\n",
    "1. helper.pageIndex(5); //should == 1 (zero based index)\n",
    "2. helper.pageIndex(2); //should == 0\n",
    "3. helper.pageIndex(20); //should == -1\n",
    "4. helper.pageIndex(-10); //should == -1"
   ]
  },
  {
   "cell_type": "code",
   "execution_count": 111,
   "metadata": {},
   "outputs": [
    {
     "data": {
      "text/plain": [
       "[Function]"
      ]
     },
     "execution_count": 111,
     "metadata": {},
     "output_type": "execute_result"
    }
   ],
   "source": [
    "// TODO: complete this object/class\n",
    "\n",
    "// The constructor takes in an array of items and a integer indicating how many\n",
    "// items fit within a single page\n",
    "function PaginationHelper(collection, itemsPerPage){\n",
    "    this.collection = collection\n",
    "    this.itemsPerPage = itemsPerPage\n",
    "}\n",
    "\n",
    "// returns the num_pagesber of items within the entire collection\n",
    "PaginationHelper.prototype.itemCount = function() {\n",
    "      return this.collection.length\n",
    "}\n",
    "\n",
    "// returns the number of pages\n",
    "PaginationHelper.prototype.pageCount = function() {\n",
    "    return (Math.ceil(this.collection.length / this.itemsPerPage))\n",
    "}\n",
    "\n",
    "// returns the number of items on the current page. page_index is zero based.\n",
    "// this method should return -1 for pageIndex values that are out of range\n",
    "PaginationHelper.prototype.pageItemCount = function(pageIndex) {\n",
    "    num_pages = this.pageCount()\n",
    "    lastPageItems = this.collection.length - (this.itemsPerPage * (num_pages - 1))\n",
    "    if(this.collection.length === 0) {\n",
    "        return -1\n",
    "    }\n",
    "    if(pageIndex === 0) {\n",
    "        if(this.collection.length < this.itemsPerPage && this.collection.length > 0) {\n",
    "            return this.collection.length\n",
    "        } else { return this.itemsPerPage}\n",
    "    }\n",
    "    if(pageIndex === num_pages - 1) {\n",
    "        return lastPageItems\n",
    "    } else if(typeof(pageIndex) !== \"number\" || pageIndex < 1 || pageIndex > num_pages - 1) {\n",
    "        return -1\n",
    "    } else {\n",
    "        return this.itemsPerPage}\n",
    "}\n",
    "\n",
    "// determines what page an item is on. Zero based indexes\n",
    "// this method should return -1 for itemIndex values that are out of range\n",
    "PaginationHelper.prototype.pageIndex = function(itemIndex) {\n",
    "    if(itemIndex <= (this.collection.length) && Math.sign(itemIndex) !== -1 && this.collection.length > 0) {\n",
    "        return Math.floor(itemIndex / this.itemsPerPage)\n",
    "    } else {return -1}\n",
    "}"
   ]
  },
  {
   "cell_type": "code",
   "execution_count": 113,
   "metadata": {},
   "outputs": [
    {
     "data": {
      "text/plain": [
       "8"
      ]
     },
     "execution_count": 113,
     "metadata": {},
     "output_type": "execute_result"
    }
   ],
   "source": [
    "var helper = new PaginationHelper(['a', 'b', 'c', 'd', 'e', 'f', 'g', 'h', 'i', 'j'], 8)\n",
    "helper.pageItemCount(2)"
   ]
  },
  {
   "cell_type": "code",
   "execution_count": 83,
   "metadata": {},
   "outputs": [
    {
     "data": {
      "text/plain": [
       "4"
      ]
     },
     "execution_count": 83,
     "metadata": {},
     "output_type": "execute_result"
    }
   ],
   "source": [
    "helper.pageCount()"
   ]
  },
  {
   "cell_type": "code",
   "execution_count": 84,
   "metadata": {},
   "outputs": [
    {
     "data": {
      "text/plain": [
       "10"
      ]
     },
     "execution_count": 84,
     "metadata": {},
     "output_type": "execute_result"
    }
   ],
   "source": [
    "helper.itemCount()"
   ]
  },
  {
   "cell_type": "code",
   "execution_count": 85,
   "metadata": {},
   "outputs": [
    {
     "data": {
      "text/plain": [
       "0"
      ]
     },
     "execution_count": 85,
     "metadata": {},
     "output_type": "execute_result"
    }
   ],
   "source": [
    "helper.pageIndex(1)"
   ]
  },
  {
   "cell_type": "code",
   "execution_count": null,
   "metadata": {},
   "outputs": [],
   "source": []
  }
 ],
 "metadata": {
  "kernelspec": {
   "display_name": "Javascript (Node.js)",
   "language": "javascript",
   "name": "javascript"
  },
  "language_info": {
   "file_extension": ".js",
   "mimetype": "application/javascript",
   "name": "javascript",
   "version": "12.10.0"
  }
 },
 "nbformat": 4,
 "nbformat_minor": 4
}
