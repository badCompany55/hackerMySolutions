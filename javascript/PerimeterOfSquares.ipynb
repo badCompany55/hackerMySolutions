{
 "cells": [
  {
   "cell_type": "markdown",
   "metadata": {},
   "source": [
    "## Perimeter of Squares in Triangles\n",
    "* The drawing shows 6 squares the sides of which have a length of 1, 1, 2, 3, 5, 8. It's easy to see that the sum of the perimeters of these squares is : 4 * (1 + 1 + 2 + 3 + 5 + 8) = 4 * 20 = 80\n",
    "* Could you give the sum of the perimeters of all the squares in a rectangle when there are n + 1 squares disposed in the same manner as in the drawing: \n",
    "\n",
    "![\"Square\"](http://i.imgur.com/EYcuB1wm.jpg)\n",
    "\n",
    "* The function perimeter has for parameter n where n + 1 is the number of squares (they are numbered from 0 to n) and returns the total perimeter of all the squares."
   ]
  },
  {
   "cell_type": "code",
   "execution_count": 43,
   "metadata": {},
   "outputs": [],
   "source": [
    "function fibonacci(num){\n",
    "  var a = 1, b = 0, final = [], newNum = num + 1, temp;\n",
    "\n",
    "  while (newNum > 0){\n",
    "    temp = a;\n",
    "    final.push(temp)\n",
    "    a = a + b;\n",
    "    b = temp;\n",
    "    newNum--\n",
    "  }\n",
    "    returnNum = final.reduce((a, b) => {return a + b}, 0)\n",
    "    returnNum *= 4\n",
    "    return returnNum\n",
    "}"
   ]
  },
  {
   "cell_type": "code",
   "execution_count": 45,
   "metadata": {},
   "outputs": [
    {
     "data": {
      "text/plain": [
       "80"
      ]
     },
     "execution_count": 45,
     "metadata": {},
     "output_type": "execute_result"
    }
   ],
   "source": [
    "fibonacci(5)"
   ]
  },
  {
   "cell_type": "code",
   "execution_count": null,
   "metadata": {},
   "outputs": [],
   "source": []
  }
 ],
 "metadata": {
  "kernelspec": {
   "display_name": "Javascript (Node.js)",
   "language": "javascript",
   "name": "javascript"
  },
  "language_info": {
   "file_extension": ".js",
   "mimetype": "application/javascript",
   "name": "javascript",
   "version": "12.10.0"
  }
 },
 "nbformat": 4,
 "nbformat_minor": 4
}
