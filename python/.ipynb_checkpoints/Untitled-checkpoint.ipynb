{
 "cells": [
  {
   "cell_type": "markdown",
   "metadata": {},
   "source": [
    "## Price Check\n",
    "* There is a shop with old style cash registers. Rather than scanning items and pulling the price from a database, the price of each item is typed in manually. This sometimes leads to errors. Given a list of items and their correct prices, compare those to the prices that were entered when each item was sold. Determine the number of errors in selling prices.\n",
    "### Example\n",
    "* products = [eggs, milk, cheese]\n",
    "* productPrices = [2.89, 3.29, 5.79]\n",
    "    * productSold = [eggs, eggs, cheese, milk]\n",
    "    * soldPrice = [2.89, 2.99, 5.97, 3.29].\n",
    "*   The second sale of eggs has a wrong price, as does the sale of cheese. There are 2 errors in pricing"
   ]
  },
  {
   "cell_type": "code",
   "execution_count": 84,
   "metadata": {},
   "outputs": [],
   "source": [
    "def priceCheck(products, productPrices, productSold, soldPrice):\n",
    "    dict_products = {}\n",
    "    dict_sold = {}\n",
    "    count = 0\n",
    "    for i, v in enumerate(products):\n",
    "        dict_products[v] = productPrices[i]\n",
    "    \n",
    "    for ind, val in enumerate(productSold):\n",
    "        if val in dict_sold:\n",
    "            new_val = [dict_sold[val][0]]\n",
    "            new_val.append(soldPrice[ind])\n",
    "            dict_sold[val] = new_val\n",
    "        else:\n",
    "            dict_sold[val] = [soldPrice[ind]]\n",
    "    \n",
    "    print(\"standard\",dict_products)\n",
    "    print(\"actual\", dict_sold)\n",
    "    \n",
    "    for k, v in dict_sold.items():\n",
    "        if len(v) > 1:\n",
    "            for x in v:\n",
    "                if dict_products[k] != x:\n",
    "                     count += 1\n",
    "        else:\n",
    "            if dict_products[k] != v[0]:\n",
    "                count += 1\n",
    "        \n",
    "    return count\n",
    "        \n"
   ]
  },
  {
   "cell_type": "code",
   "execution_count": 85,
   "metadata": {},
   "outputs": [
    {
     "name": "stdout",
     "output_type": "stream",
     "text": [
      "standard {'eggs': 2.89, 'milk': 3.29, 'cheese': 5.79}\n",
      "actual {'eggs': [2.89, 2.99], 'cheese': [5.97], 'milk': [3.29]}\n"
     ]
    },
    {
     "data": {
      "text/plain": [
       "3"
      ]
     },
     "execution_count": 85,
     "metadata": {},
     "output_type": "execute_result"
    }
   ],
   "source": [
    "products = [\"eggs\", \"milk\", \"cheese\"]\n",
    "productPrices = [2.89, 3.29, 5.79]\n",
    "productSold = [\"eggs\", \"eggs\", \"cheese\", \"milk\"]\n",
    "soldPrice = [2.89, 2.99, 5.97, 3.29]\n",
    "\n",
    "priceCheck(products, productPrices, productSold, soldPrice)"
   ]
  },
  {
   "cell_type": "code",
   "execution_count": null,
   "metadata": {},
   "outputs": [],
   "source": []
  },
  {
   "cell_type": "code",
   "execution_count": null,
   "metadata": {},
   "outputs": [],
   "source": []
  }
 ],
 "metadata": {
  "kernelspec": {
   "display_name": "Python 3",
   "language": "python",
   "name": "python3"
  },
  "language_info": {
   "codemirror_mode": {
    "name": "ipython",
    "version": 3
   },
   "file_extension": ".py",
   "mimetype": "text/x-python",
   "name": "python",
   "nbconvert_exporter": "python",
   "pygments_lexer": "ipython3",
   "version": "3.7.3"
  }
 },
 "nbformat": 4,
 "nbformat_minor": 4
}
