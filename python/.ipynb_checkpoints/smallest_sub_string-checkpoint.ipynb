{
 "cells": [
  {
   "cell_type": "markdown",
   "metadata": {},
   "source": [
    "## Smallest Substring\n",
    "### Description\n",
    "1. You are given a string __(s)__ that is lowercase alphabets. Determine the length of the smallest substring that contains the maximum number of  distinct characters"
   ]
  },
  {
   "cell_type": "code",
   "execution_count": 12,
   "metadata": {},
   "outputs": [],
   "source": [
    "def smallest_sub_string(s):\n",
    "    # get all unique characters in the string using set\n",
    "    # get the length of the set\n",
    "    n = len(set(s))\n",
    "    \n",
    "    # index of the trailer that checks for duplicates\n",
    "    j = 0\n",
    "    \n",
    "    # base number to checke against for length\n",
    "    mi = 999999999\n",
    "    \n",
    "    \n",
    "    # loop through s with a starting index of +1\n",
    "    # since starting +1, add +1 to length of s\n",
    "    # use j and i for a splice of the array \n",
    "    \n",
    "    for i in range(1, len(s) + 1):\n",
    "        print(\"i:\",i,\"j:\",j)\n",
    "        \n",
    "        print(\"s[:i]:\", s[:i], \"s[j:i]:\", s[j:i])\n",
    "        \n",
    "        # check if all unique chars in n have been satisfied by the \n",
    "        # slice of s[j:i]\n",
    "        # use set to check for the unique chars in the slice\n",
    "        if (len(set(s[j:i])) == n):\n",
    "            \n",
    "            # set my to the length of splice s[j:i]\n",
    "            mi = len(s[j:i]) if len(s[j:i]) < mi else mi\n",
    "            \n",
    "        '''\n",
    "        checking for duplicates in the string\n",
    "        if s[j] in the slice of s[j+1:i+1]\n",
    "        increment j by one\n",
    "        this catches j up to i, eliminating duplicates\n",
    "        checks for a duplicate after a change in char\n",
    "        '''\n",
    "        while s[j] in s[j+1:i+1]:\n",
    "            print(s[j] in s[j+1:i+1])\n",
    "            \n",
    "            j += 1\n",
    "            \n",
    "    return mi"
   ]
  },
  {
   "cell_type": "code",
   "execution_count": 15,
   "metadata": {},
   "outputs": [
    {
     "name": "stdout",
     "output_type": "stream",
     "text": [
      "i: 1 j: 0\n",
      "s[:i]: a s[j:i]: a\n",
      "i: 2 j: 0\n",
      "s[:i]: ab s[j:i]: ab\n",
      "i: 3 j: 0\n",
      "s[:i]: abb s[j:i]: abb\n",
      "i: 4 j: 0\n",
      "s[:i]: abbb s[j:i]: abbb\n",
      "i: 5 j: 0\n",
      "s[:i]: abbbc s[j:i]: abbbc\n",
      "i: 6 j: 0\n",
      "s[:i]: abbbcc s[j:i]: abbbcc\n",
      "True\n",
      "True\n",
      "True\n",
      "i: 7 j: 3\n",
      "s[:i]: abbbcca s[j:i]: bcca\n",
      "i: 8 j: 3\n",
      "s[:i]: abbbccaa s[j:i]: bccaa\n",
      "True\n",
      "True\n",
      "i: 9 j: 5\n",
      "s[:i]: abbbccaab s[j:i]: caab\n"
     ]
    },
    {
     "data": {
      "text/plain": [
       "4"
      ]
     },
     "execution_count": 15,
     "metadata": {},
     "output_type": "execute_result"
    }
   ],
   "source": [
    "smallest_sub_string(\"abbbccaab\")"
   ]
  },
  {
   "cell_type": "code",
   "execution_count": null,
   "metadata": {},
   "outputs": [],
   "source": []
  }
 ],
 "metadata": {
  "kernelspec": {
   "display_name": "Python 3",
   "language": "python",
   "name": "python3"
  },
  "language_info": {
   "codemirror_mode": {
    "name": "ipython",
    "version": 3
   },
   "file_extension": ".py",
   "mimetype": "text/x-python",
   "name": "python",
   "nbconvert_exporter": "python",
   "pygments_lexer": "ipython3",
   "version": "3.7.3"
  }
 },
 "nbformat": 4,
 "nbformat_minor": 4
}
