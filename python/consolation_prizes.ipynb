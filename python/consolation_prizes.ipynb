{
 "cells": [
  {
   "cell_type": "markdown",
   "metadata": {},
   "source": [
    "## Failed\n",
    "1. Only partially successful as the time limit exceeded on the last two tests. \n",
    "2. This is probably due to a very large data set.\n",
    "3. Would need to make it faster in order for it to be fully successful\n"
   ]
  },
  {
   "cell_type": "code",
   "execution_count": 49,
   "metadata": {},
   "outputs": [],
   "source": [
    "def numofPrizes(k, marks):\n",
    "    sorted_marks = sorted(marks, reverse = True)\n",
    "    removed_zeros = []\n",
    "    final_marks = []\n",
    "    \n",
    "    for x in sorted_marks:\n",
    "        if x is not 0:\n",
    "            removed_zeros.append(x)\n",
    "            \n",
    "    rank = 1\n",
    "    temp_rank = rank\n",
    "    counter = 0\n",
    "    running = True\n",
    "    \n",
    "    if len(removed_zeros > 0):\n",
    "        while running:\n",
    "            final_marks.append(rank)\n",
    "            copy = removed_zeros[counter:]\n",
    "            copy = copy[1:]\n",
    "            x = removed_zeros[counter]\n",
    "            print(len(removed_zeros))\n",
    "\n",
    "            while x in copy:\n",
    "                final_marks.append(temp_rank)\n",
    "                counter += 1\n",
    "                rank += 1\n",
    "                copy = removed_zeros[counter:]\n",
    "                copy = copy[1:]\n",
    "                if counter == len(removed_zeros) - 1:\n",
    "                    break\n",
    "            if counter == len(removed_zeros) - 1:\n",
    "                break\n",
    "            counter += 1\n",
    "            rank += 1\n",
    "            temp_rank = rank\n",
    "        the_return = []\n",
    "        for x in final_marks:\n",
    "            if x <= k:\n",
    "                the_return.append(x)\n",
    "\n",
    "        return len(the_return)"
   ]
  },
  {
   "cell_type": "code",
   "execution_count": 50,
   "metadata": {},
   "outputs": [
    {
     "name": "stdout",
     "output_type": "stream",
     "text": [
      "8\n",
      "8\n",
      "8\n",
      "8\n",
      "8\n"
     ]
    },
    {
     "data": {
      "text/plain": [
       "6"
      ]
     },
     "execution_count": 50,
     "metadata": {},
     "output_type": "execute_result"
    }
   ],
   "source": [
    "test = [5,2,2,7,8,6,5,5]\n",
    "cut = 4\n",
    "\n",
    "numofPrizes(cut,test)"
   ]
  },
  {
   "cell_type": "code",
   "execution_count": null,
   "metadata": {},
   "outputs": [],
   "source": []
  },
  {
   "cell_type": "code",
   "execution_count": null,
   "metadata": {},
   "outputs": [],
   "source": []
  }
 ],
 "metadata": {
  "kernelspec": {
   "display_name": "Python 3",
   "language": "python",
   "name": "python3"
  },
  "language_info": {
   "codemirror_mode": {
    "name": "ipython",
    "version": 3
   },
   "file_extension": ".py",
   "mimetype": "text/x-python",
   "name": "python",
   "nbconvert_exporter": "python",
   "pygments_lexer": "ipython3",
   "version": "3.7.3"
  }
 },
 "nbformat": 4,
 "nbformat_minor": 4
}
