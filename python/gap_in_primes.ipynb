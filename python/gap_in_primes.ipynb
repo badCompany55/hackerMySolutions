{
 "cells": [
  {
   "cell_type": "markdown",
   "metadata": {},
   "source": [
    "## Gap in Primes\n",
    "* The prime numbers are not regularly spaced. For example from 2 to 3 the gap is 1. From 3 to 5 the gap is 2. From 7 to 11 it is 4. Between 2 and 50 we have the following pairs of 2-gaps primes: 3-5, 5-7, 11-13, 17-19, 29-31, 41-43\n",
    "* A prime gap of length n is a run of n-1 consecutive composite numbers between two successive primes (see: http://mathworld.wolfram.com/PrimeGaps.html).\n",
    "\n",
    "* We will write a function gap with parameters:\n",
    "\n",
    "* g (integer >= 2) which indicates the gap we are looking for\n",
    "\n",
    "* m (integer > 2) which gives the start of the search (m inclusive)\n",
    "\n",
    "* n (integer >= m) which gives the end of the search (n inclusive)\n",
    "\n",
    "* In the example above __gap(2, 3, 50)__ will return __[3, 5] or (3, 5) or {3, 5}__ which is the first pair between 3 and 50 with a 2-gap.\n",
    "\n",
    "* So this function should return the first pair of two prime numbers spaced with a gap of g between the limits m, n if these numbers exist otherwise nil or null or None or Nothing (depend"
   ]
  },
  {
   "cell_type": "code",
   "execution_count": 72,
   "metadata": {},
   "outputs": [],
   "source": [
    "from math import sqrt\n",
    "from itertools import count, islice\n",
    "\n",
    "def gap(g, x, y):\n",
    "    \n",
    "    def is_prime(n):\n",
    "        if n < 2:\n",
    "            return False\n",
    "        \n",
    "        # count(2) = iterable\n",
    "        # int(sqrt(n) - 1) = stop\n",
    "        # start defaults to 0\n",
    "        # step defaults to one\n",
    "        for num in islice(count(2), int(sqrt(n) - 1)):\n",
    "            if n % num == 0:\n",
    "                return False\n",
    "        \n",
    "        return True\n",
    "    \n",
    "    prev_prime = None\n",
    "    current_prime = None\n",
    "    \n",
    "    for n in islice(range(x, y + 1), y):\n",
    "        if is_prime(n):\n",
    "            print(n)\n",
    "            current_prime = n\n",
    "            if current_prime - g == prev_prime:\n",
    "                return [prev_prime, current_prime]\n",
    "            \n",
    "            else:\n",
    "                prev_prime = n\n",
    "    \n",
    "    return None\n",
    "            \n",
    "        \n",
    "    "
   ]
  },
  {
   "cell_type": "code",
   "execution_count": 74,
   "metadata": {},
   "outputs": [
    {
     "name": "stdout",
     "output_type": "stream",
     "text": [
      "307\n",
      "311\n",
      "313\n",
      "317\n",
      "331\n",
      "337\n",
      "347\n",
      "349\n",
      "353\n",
      "359\n",
      "367\n"
     ]
    },
    {
     "data": {
      "text/plain": [
       "[359, 367]"
      ]
     },
     "execution_count": 74,
     "metadata": {},
     "output_type": "execute_result"
    }
   ],
   "source": [
    "gap(8,300,400)"
   ]
  },
  {
   "cell_type": "code",
   "execution_count": 27,
   "metadata": {},
   "outputs": [
    {
     "name": "stdout",
     "output_type": "stream",
     "text": [
      "1\n",
      "4\n",
      "7\n",
      "10\n",
      "13\n"
     ]
    }
   ],
   "source": [
    "for n in islice(range(1, 15 + 1 ), 0, 15, 3):\n",
    "    print(n)"
   ]
  },
  {
   "cell_type": "code",
   "execution_count": null,
   "metadata": {},
   "outputs": [],
   "source": []
  }
 ],
 "metadata": {
  "kernelspec": {
   "display_name": "Python 3",
   "language": "python",
   "name": "python3"
  },
  "language_info": {
   "codemirror_mode": {
    "name": "ipython",
    "version": 3
   },
   "file_extension": ".py",
   "mimetype": "text/x-python",
   "name": "python",
   "nbconvert_exporter": "python",
   "pygments_lexer": "ipython3",
   "version": "3.7.3"
  }
 },
 "nbformat": 4,
 "nbformat_minor": 4
}
